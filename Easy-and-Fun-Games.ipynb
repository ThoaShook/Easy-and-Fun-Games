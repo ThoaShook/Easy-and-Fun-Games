{
 "cells": [
  {
   "cell_type": "markdown",
   "metadata": {},
   "source": [
    "###### 1. Rock, Paper, and Scissors Game:\n",
    "    * In this game, we make a one-player Rock, Paper, and Scissors Game that requires the player input (rock,paper, scissors) and a automated player (computer randomly automate generated input (rock,paper, scissors). Compare them, print out a message of congratulation to the winer, and ask if the player want to start a new game.\n",
    "    * The rules are: rock beats scissors, scissors beats paper, and paper beats rock."
   ]
  },
  {
   "cell_type": "code",
   "execution_count": 1,
   "metadata": {},
   "outputs": [
    {
     "name": "stdout",
     "output_type": "stream",
     "text": [
      "1.Welcome player! Let's play the Rock-Paper-Scissors game!\n",
      "2. The rules are: \n",
      "          rock beats scissors,\n",
      "          scissors beats paper,\n",
      "          paper beats rock.\n",
      "3.The computer randomly generates rock, paper, or scissors.\n",
      "          You enter your choice.\n",
      "          You win or lose based on the game rules.\n",
      "4. Please type 'q' to exit.\n",
      "\n",
      "Player_Input: rock\n",
      "Computer: ['scissors']\n",
      "Congrats! You win.\n",
      "Player_Input: scissors\n",
      "Computer: ['paper']\n",
      "Congrats! You win.\n",
      "Player_Input: paper\n",
      "Computer: ['rock']\n",
      "Congrats! You win.\n",
      "Player_Input: paper\n",
      "Computer: ['scissors']\n",
      "Sorry! You lose.\n",
      "Player_Input: rock\n",
      "Computer: ['scissors']\n",
      "Congrats! You win.\n",
      "Player_Input: rock\n",
      "Computer: ['paper']\n",
      "Sorry! You lose.\n",
      "Player_Input: rk\n",
      "Computer: ['paper']\n",
      "Invalid input. Please try again.\n",
      "Player_Input: q\n"
     ]
    }
   ],
   "source": [
    "print(\"1.Welcome player! Let's play the Rock-Paper-Scissors game!\")\n",
    "print(\"\"\"2. The rules are: \n",
    "          rock beats scissors,\n",
    "          scissors beats paper,\n",
    "          paper beats rock.\"\"\")\n",
    "print(\"\"\"3.The computer randomly generates rock, paper, or scissors.\n",
    "          You enter your choice.\n",
    "          You win or lose based on the game rules.\"\"\")\n",
    "print(\"4. Please type 'q' to exit.\\n\")\n",
    "import random \n",
    "while True:\n",
    "    lst = ['rock','scissors','paper']\n",
    "    auto_inpt = str(random.sample(lst,1))\n",
    "    player_inpt = input('Player_Input: ')\n",
    "    if player_inpt == 'q':\n",
    "        break\n",
    "    print(f\"Computer: {auto_inpt}\")\n",
    "    if player_inpt in auto_inpt:\n",
    "        pass\n",
    "    elif player_inpt == 'rock' and 'scissors' in auto_inpt:\n",
    "        print('Congrats! You win.')\n",
    "    elif player_inpt == 'scissors' and 'paper' in auto_inpt:\n",
    "        print('Congrats! You win.')\n",
    "    elif player_inpt == 'paper' and 'rock' in auto_inpt:\n",
    "        print('Congrats! You win.')\n",
    "\n",
    "    elif player_inpt == 'scissors' and 'rock' in auto_inpt:\n",
    "        print('Sorry! You lose.')\n",
    "    elif player_inpt == 'paper' and 'scissors' in auto_inpt:\n",
    "        print('Sorry! You lose.')\n",
    "    elif player_inpt == 'rock' and 'paper' in auto_inpt:\n",
    "        print('Sorry! You lose.')\n",
    "\n",
    "    else:\n",
    "        print('Invalid input. Please try again.')"
   ]
  },
  {
   "cell_type": "code",
   "execution_count": null,
   "metadata": {},
   "outputs": [],
   "source": []
  }
 ],
 "metadata": {
  "kernelspec": {
   "display_name": "Python 3",
   "language": "python",
   "name": "python3"
  },
  "language_info": {
   "codemirror_mode": {
    "name": "ipython",
    "version": 3
   },
   "file_extension": ".py",
   "mimetype": "text/x-python",
   "name": "python",
   "nbconvert_exporter": "python",
   "pygments_lexer": "ipython3",
   "version": "3.7.4"
  }
 },
 "nbformat": 4,
 "nbformat_minor": 2
}
