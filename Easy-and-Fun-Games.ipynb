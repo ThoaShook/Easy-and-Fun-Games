{
 "cells": [
  {
   "cell_type": "markdown",
   "metadata": {},
   "source": [
    "###### 1. Rock, Paper, and Scissors Game:\n",
    "    * In this game, we make a one-player Rock, Paper, and Scissors Game that requires the player input (rock,paper, scissors) and a automated player (computer randomly automate generated input (rock,paper, scissors). Compare them, print out a message of congratulation to the winer, and ask if the player want to start a new game.\n",
    "    * The rules are: rock beats scissors, scissors beats paper, and paper beats rock."
   ]
  },
  {
   "cell_type": "code",
   "execution_count": null,
   "metadata": {},
   "outputs": [
    {
     "name": "stdout",
     "output_type": "stream",
     "text": [
      "1.Welcome player! Let's play the Rock-Paper-Scissors game!\n",
      "2. The rules are:                                          \n",
      "          rock beats scissors,\n",
      "          scissors beats paper,\n",
      "          paper beats rock.\n",
      "3.The computer randomly generates rock, paper, or scissors.\n",
      "          You enter your choice.\n",
      "          You win or lose based on the game rules.\n",
      "4. Please type 'q' to exit.\n",
      "\n",
      "Player_Input: rock\n",
      "Generated auto input: ['rock']\n",
      "Player_Input: paper\n",
      "Generated auto input: ['scissors']\n",
      "Sorry! You lose.\n",
      "Player_Input: scissors\n",
      "Generated auto input: ['paper']\n",
      "Congrats! You win.\n"
     ]
    }
   ],
   "source": [
    "print(\"1.Welcome player! Let's play the Rock-Paper-Scissors game!\") # print out the welcome line.\n",
    "print(\"\"\"2. The rules are:                                          \n",
    "          rock beats scissors,\n",
    "          scissors beats paper,\n",
    "          paper beats rock.\"\"\")                                     # explain the rules of the game\n",
    "print(\"\"\"3.The computer randomly generates rock, paper, or scissors.\n",
    "          You enter your choice.\n",
    "          You win or lose based on the game rules.\"\"\")\n",
    "print(\"4. Please type 'q' to exit.\\n\")                              # if the player want to exit the game, type 'q'\n",
    "import random                                                       # import 'random' library\n",
    "while True:                                                         # create a while loop\n",
    "    lst = ['rock','scissors','paper']                               # generate a list of elements (rock,paper, scissors)\n",
    "    auto_inpt = str(random.sample(lst,1))                           # randomly generate auto-input\n",
    "    player_inpt = input('Player_Input: ')                           # player-input\n",
    "    if player_inpt == 'q':                                          # condition to exit the game\n",
    "        break\n",
    "    print(f\"Generated auto input: {auto_inpt}\")                                 # print out random generated auto-input\n",
    "    if player_inpt in auto_inpt:                                    # this line to the last two lines are the conditions\n",
    "        pass                                                        # conditions to lose or win the game according to the game rules\n",
    "    elif player_inpt == 'rock' and 'scissors' in auto_inpt:\n",
    "        print('Congrats! You win.')\n",
    "    elif player_inpt == 'scissors' and 'paper' in auto_inpt:\n",
    "        print('Congrats! You win.')\n",
    "    elif player_inpt == 'paper' and 'rock' in auto_inpt:\n",
    "        print('Congrats! You win.')\n",
    "\n",
    "    elif player_inpt == 'scissors' and 'rock' in auto_inpt:\n",
    "        print('Sorry! You lose.')\n",
    "    elif player_inpt == 'paper' and 'scissors' in auto_inpt:\n",
    "        print('Sorry! You lose.')\n",
    "    elif player_inpt == 'rock' and 'paper' in auto_inpt:\n",
    "        print('Sorry! You lose.')\n",
    "\n",
    "    else:                                                          # invalid-input (misspell, or somethings that are not  )\n",
    "        print('Invalid input. Please try again.')                  # rock, paper, scissors, will prompt the player to re-enter the input"
   ]
  },
  {
   "cell_type": "code",
   "execution_count": null,
   "metadata": {},
   "outputs": [],
   "source": []
  }
 ],
 "metadata": {
  "kernelspec": {
   "display_name": "Python 3",
   "language": "python",
   "name": "python3"
  },
  "language_info": {
   "codemirror_mode": {
    "name": "ipython",
    "version": 3
   },
   "file_extension": ".py",
   "mimetype": "text/x-python",
   "name": "python",
   "nbconvert_exporter": "python",
   "pygments_lexer": "ipython3",
   "version": "3.7.4"
  }
 },
 "nbformat": 4,
 "nbformat_minor": 2
}
